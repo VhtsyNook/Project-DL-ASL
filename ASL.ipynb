{
 "cells": [
  {
   "cell_type": "code",
   "execution_count": 5,
   "id": "a956c916-ab51-4278-b028-2a7206ec99de",
   "metadata": {},
   "outputs": [
    {
     "name": "stdout",
     "output_type": "stream",
     "text": [
      "Found 87000 files belonging to 29 classes.\n",
      "Using 69600 files for training.\n",
      "Found 87000 files belonging to 29 classes.\n",
      "Using 17400 files for validation.\n",
      "Class names: ['A', 'B', 'C', 'D', 'E', 'F', 'G', 'H', 'I', 'J', 'K', 'L', 'M', 'N', 'O', 'P', 'Q', 'R', 'S', 'T', 'U', 'V', 'W', 'X', 'Y', 'Z', 'del', 'nothing', 'space']\n",
      "Number of classes: 29\n",
      "Train batches: 4350\n",
      "Validation batches: 544\n",
      "Test batches: 544\n",
      "------------------------------------------\n",
      "Total Train images (Approx.): ~69600\n",
      "Total Validation images (Approx.): ~8704\n",
      "Total Test images (Approx.): ~8704\n"
     ]
    }
   ],
   "source": [
    "import tensorflow as tf\n",
    "from tensorflow.keras.preprocessing import image_dataset_from_directory\n",
    "import os\n",
    "\n",
    "data_dir = \"/home/nuttacha/archivenew/asl_alphabet_train/asl_alphabet_train\"\n",
    "IMG_SIZE = (64, 64)\n",
    "BATCH_SIZE = 16\n",
    "SEED = 123\n",
    "\n",
    "# 1. โหลด 80% สำหรับ training\n",
    "train_ds = image_dataset_from_directory(\n",
    "    data_dir,\n",
    "    validation_split=0.2,  # จอง 20% ไว้สำหรับ validation+test\n",
    "    subset=\"training\",\n",
    "    seed=SEED,\n",
    "    image_size=IMG_SIZE,\n",
    "    batch_size=BATCH_SIZE\n",
    ")\n",
    "\n",
    "# 2. โหลด 20% ที่เหลือ (ที่ไม่ได้ใช้ใน train_ds)\n",
    "# เราจะเรียกมันว่า 'temp_ds' ก่อน เพราะต้องแบ่งมันอีกที\n",
    "temp_ds = image_dataset_from_directory(\n",
    "    data_dir,\n",
    "    validation_split=0.2,\n",
    "    subset=\"validation\",   # เลือก \"validation\" เพื่อเอา 20% ที่เหลือ\n",
    "    seed=SEED,\n",
    "    image_size=IMG_SIZE,\n",
    "    batch_size=BATCH_SIZE\n",
    ")\n",
    "\n",
    "# 3. แบ่ง 20% ที่เหลือ (temp_ds) ออกเป็น 10% (val_ds) และ 10% (test_ds)\n",
    "# หาจำนวน batch ทั้งหมดใน temp_ds (ซึ่งคือ 20% ของข้อมูล)\n",
    "val_batches = tf.data.experimental.cardinality(temp_ds)\n",
    "# แบ่งครึ่ง (50% ของ 20% = 10% ของทั้งหมด)\n",
    "val_ds = temp_ds.take(val_batches // 2)\n",
    "# เอาส่วนที่เหลืออีกครึ่ง\n",
    "test_ds = temp_ds.skip(val_batches // 2)\n",
    "\n",
    "\n",
    "class_names = train_ds.class_names\n",
    "print(\"Class names:\", class_names)\n",
    "print(\"Number of classes:\", len(class_names))\n",
    "\n",
    "# Normalize ค่า pixel [0,1]\n",
    "normalization_layer = tf.keras.layers.Rescaling(1./255)\n",
    "\n",
    "train_ds = train_ds.map(lambda x, y: (normalization_layer(x), y))\n",
    "val_ds = val_ds.map(lambda x, y: (normalization_layer(x), y))\n",
    "test_ds = test_ds.map(lambda x, y: (normalization_layer(x), y))  # **อย่าลืม test_ds**\n",
    "\n",
    "# Optimize dataset pipeline\n",
    "AUTOTUNE = tf.data.AUTOTUNE\n",
    "\n",
    "train_ds = train_ds.shuffle(1000).prefetch(buffer_size=AUTOTUNE)\n",
    "val_ds = val_ds.prefetch(buffer_size=AUTOTUNE)\n",
    "test_ds = test_ds.prefetch(buffer_size=AUTOTUNE)  # **อย่าลืม test_ds**\n",
    "\n",
    "'''print(\"Train batches:\", tf.data.experimental.cardinality(train_ds).numpy())\n",
    "print(\"Validation batches:\", tf.data.experimental.cardinality(val_ds).numpy())\n",
    "print(\"Test batches:\", tf.data.experimental.cardinality(test_ds).numpy())\n",
    "\n",
    "print(f\"Total Train images (Approx.): ~{train_batches * BATCH_SIZE}\")\n",
    "print(f\"Total Validation images (Approx.): ~{val_batches * BATCH_SIZE}\")\n",
    "print(f\"Total Test images (Approx.): ~{test_batches * BATCH_SIZE}\")'''\n",
    "\n",
    "# 1. คำนวณและ \"เก็บค่า\" ลงในตัวแปร\n",
    "train_batches = tf.data.experimental.cardinality(train_ds).numpy()\n",
    "val_batches = tf.data.experimental.cardinality(val_ds).numpy()\n",
    "test_batches = tf.data.experimental.cardinality(test_ds).numpy()\n",
    "\n",
    "# 2. พิมพ์จำนวน Batch (โดยใช้ตัวแปรที่เพิ่งสร้าง)\n",
    "print(\"Train batches:\", train_batches)\n",
    "print(\"Validation batches:\", val_batches)\n",
    "print(\"Test batches:\", test_batches)\n",
    "\n",
    "print(\"------------------------------------------\")\n",
    "\n",
    "# 3. พิมพ์จำนวนภาพ (ตอนนี้ตัวแปรมีค่าแล้ว และโค้ดจะไม่ error)\n",
    "print(f\"Total Train images (Approx.): ~{train_batches * BATCH_SIZE}\")\n",
    "print(f\"Total Validation images (Approx.): ~{val_batches * BATCH_SIZE}\")\n",
    "print(f\"Total Test images (Approx.): ~{test_batches * BATCH_SIZE}\")"
   ]
  },
  {
   "cell_type": "code",
   "execution_count": 1,
   "id": "2f9dfa09-8e83-4718-a367-a24163120634",
   "metadata": {},
   "outputs": [
    {
     "name": "stderr",
     "output_type": "stream",
     "text": [
      "2025-10-24 13:57:41.165401: I tensorflow/core/util/port.cc:153] oneDNN custom operations are on. You may see slightly different numerical results due to floating-point round-off errors from different computation orders. To turn them off, set the environment variable `TF_ENABLE_ONEDNN_OPTS=0`.\n",
      "2025-10-24 13:57:46.152840: E external/local_xla/xla/stream_executor/cuda/cuda_fft.cc:467] Unable to register cuFFT factory: Attempting to register factory for plugin cuFFT when one has already been registered\n",
      "WARNING: All log messages before absl::InitializeLog() is called are written to STDERR\n",
      "E0000 00:00:1761289066.413718    4615 cuda_dnn.cc:8579] Unable to register cuDNN factory: Attempting to register factory for plugin cuDNN when one has already been registered\n",
      "E0000 00:00:1761289066.525125    4615 cuda_blas.cc:1407] Unable to register cuBLAS factory: Attempting to register factory for plugin cuBLAS when one has already been registered\n",
      "W0000 00:00:1761289067.091579    4615 computation_placer.cc:177] computation placer already registered. Please check linkage and avoid linking the same target more than once.\n",
      "W0000 00:00:1761289067.091656    4615 computation_placer.cc:177] computation placer already registered. Please check linkage and avoid linking the same target more than once.\n",
      "W0000 00:00:1761289067.091658    4615 computation_placer.cc:177] computation placer already registered. Please check linkage and avoid linking the same target more than once.\n",
      "W0000 00:00:1761289067.091659    4615 computation_placer.cc:177] computation placer already registered. Please check linkage and avoid linking the same target more than once.\n",
      "2025-10-24 13:57:47.204687: I tensorflow/core/platform/cpu_feature_guard.cc:210] This TensorFlow binary is optimized to use available CPU instructions in performance-critical operations.\n",
      "To enable the following instructions: AVX2 AVX_VNNI FMA, in other operations, rebuild TensorFlow with the appropriate compiler flags.\n"
     ]
    },
    {
     "name": "stdout",
     "output_type": "stream",
     "text": [
      "Found 87000 files belonging to 29 classes.\n",
      "Using 69600 files for training.\n"
     ]
    },
    {
     "name": "stderr",
     "output_type": "stream",
     "text": [
      "I0000 00:00:1761289114.406765    4615 gpu_device.cc:2019] Created device /job:localhost/replica:0/task:0/device:GPU:0 with 1767 MB memory:  -> device: 0, name: NVIDIA GeForce RTX 3050 Laptop GPU, pci bus id: 0000:01:00.0, compute capability: 8.6\n"
     ]
    },
    {
     "name": "stdout",
     "output_type": "stream",
     "text": [
      "Found 87000 files belonging to 29 classes.\n",
      "Using 17400 files for validation.\n",
      "Class names: ['A', 'B', 'C', 'D', 'E', 'F', 'G', 'H', 'I', 'J', 'K', 'L', 'M', 'N', 'O', 'P', 'Q', 'R', 'S', 'T', 'U', 'V', 'W', 'X', 'Y', 'Z', 'del', 'nothing', 'space']\n",
      "Number of classes: 29\n",
      "Train batches: 17400\n",
      "Validation batches: 4350\n"
     ]
    }
   ],
   "source": [
    "'''import tensorflow as tf\n",
    "from tensorflow.keras.preprocessing import image_dataset_from_directory\n",
    "import os\n",
    "\n",
    "data_dir = \"/home/nuttacha/archivenew/asl_alphabet_train/asl_alphabet_train\"\n",
    "\n",
    "# โหลด dataset และแบ่ง train / validation\n",
    "train_ds = image_dataset_from_directory(\n",
    "    data_dir,\n",
    "    validation_split=0.2,     # 80% สำหรับ train\n",
    "    subset=\"training\",\n",
    "    seed=123,\n",
    "    image_size=(128, 128),\n",
    "    batch_size= 4\n",
    ")\n",
    "\n",
    "val_ds = image_dataset_from_directory(\n",
    "    data_dir,\n",
    "    validation_split=0.2,\n",
    "    subset=\"validation\",\n",
    "    seed=123,\n",
    "    image_size=(128, 128),\n",
    "    batch_size= 4\n",
    ")\n",
    "\n",
    "class_names = train_ds.class_names\n",
    "print(\"Class names:\", class_names)\n",
    "print(\"Number of classes:\", len(class_names))\n",
    "\n",
    "# Normalize ค่า pixel [0,1] โมเดลเรียนได้ดีขึ้นเมื่อข้อมูลถูก normalized (ค่ากระจายไม่กว้างเกินไป) — ช่วยให้การเรียนรู้ของ optimizer มีเสถียรภาพ\n",
    "normalization_layer = tf.keras.layers.Rescaling(1./255)\n",
    "train_ds = train_ds.map(lambda x, y: (normalization_layer(x), y))\n",
    "val_ds = val_ds.map(lambda x, y: (normalization_layer(x), y))\n",
    "\n",
    "# Optimize dataset pipeline\n",
    "\n",
    "train_ds = train_ds.cache().shuffle(1000).prefetch(buffer_size=tf.data.AUTOTUNE)\n",
    "val_ds = val_ds.cache().prefetch(buffer_size=tf.data.AUTOTUNE)\n",
    "\n",
    "# Optimize dataset pipeline\n",
    "train_ds = train_ds.shuffle(1000).prefetch(buffer_size=tf.data.AUTOTUNE)\n",
    "val_ds = val_ds.prefetch(buffer_size=tf.data.AUTOTUNE)\n",
    "\n",
    "print(\"Train batches:\", tf.data.experimental.cardinality(train_ds).numpy())\n",
    "print(\"Validation batches:\", tf.data.experimental.cardinality(val_ds).numpy())'''"
   ]
  },
  {
   "cell_type": "code",
   "execution_count": 6,
   "id": "e01d5512-2226-4fca-94af-27f88c531bda",
   "metadata": {},
   "outputs": [
    {
     "data": {
      "text/html": [
       "<pre style=\"white-space:pre;overflow-x:auto;line-height:normal;font-family:Menlo,'DejaVu Sans Mono',consolas,'Courier New',monospace\"><span style=\"font-weight: bold\">Model: \"sequential_1\"</span>\n",
       "</pre>\n"
      ],
      "text/plain": [
       "\u001b[1mModel: \"sequential_1\"\u001b[0m\n"
      ]
     },
     "metadata": {},
     "output_type": "display_data"
    },
    {
     "data": {
      "text/html": [
       "<pre style=\"white-space:pre;overflow-x:auto;line-height:normal;font-family:Menlo,'DejaVu Sans Mono',consolas,'Courier New',monospace\">┏━━━━━━━━━━━━━━━━━━━━━━━━━━━━━━━━━┳━━━━━━━━━━━━━━━━━━━━━━━━┳━━━━━━━━━━━━━━━┓\n",
       "┃<span style=\"font-weight: bold\"> Layer (type)                    </span>┃<span style=\"font-weight: bold\"> Output Shape           </span>┃<span style=\"font-weight: bold\">       Param # </span>┃\n",
       "┡━━━━━━━━━━━━━━━━━━━━━━━━━━━━━━━━━╇━━━━━━━━━━━━━━━━━━━━━━━━╇━━━━━━━━━━━━━━━┩\n",
       "│ resnet50v2 (<span style=\"color: #0087ff; text-decoration-color: #0087ff\">Functional</span>)         │ (<span style=\"color: #00d7ff; text-decoration-color: #00d7ff\">None</span>, <span style=\"color: #00af00; text-decoration-color: #00af00\">2</span>, <span style=\"color: #00af00; text-decoration-color: #00af00\">2</span>, <span style=\"color: #00af00; text-decoration-color: #00af00\">2048</span>)     │    <span style=\"color: #00af00; text-decoration-color: #00af00\">23,564,800</span> │\n",
       "├─────────────────────────────────┼────────────────────────┼───────────────┤\n",
       "│ global_average_pooling2d_1      │ (<span style=\"color: #00d7ff; text-decoration-color: #00d7ff\">None</span>, <span style=\"color: #00af00; text-decoration-color: #00af00\">2048</span>)           │             <span style=\"color: #00af00; text-decoration-color: #00af00\">0</span> │\n",
       "│ (<span style=\"color: #0087ff; text-decoration-color: #0087ff\">GlobalAveragePooling2D</span>)        │                        │               │\n",
       "├─────────────────────────────────┼────────────────────────┼───────────────┤\n",
       "│ dense_2 (<span style=\"color: #0087ff; text-decoration-color: #0087ff\">Dense</span>)                 │ (<span style=\"color: #00d7ff; text-decoration-color: #00d7ff\">None</span>, <span style=\"color: #00af00; text-decoration-color: #00af00\">512</span>)            │     <span style=\"color: #00af00; text-decoration-color: #00af00\">1,049,088</span> │\n",
       "├─────────────────────────────────┼────────────────────────┼───────────────┤\n",
       "│ dropout_1 (<span style=\"color: #0087ff; text-decoration-color: #0087ff\">Dropout</span>)             │ (<span style=\"color: #00d7ff; text-decoration-color: #00d7ff\">None</span>, <span style=\"color: #00af00; text-decoration-color: #00af00\">512</span>)            │             <span style=\"color: #00af00; text-decoration-color: #00af00\">0</span> │\n",
       "├─────────────────────────────────┼────────────────────────┼───────────────┤\n",
       "│ dense_3 (<span style=\"color: #0087ff; text-decoration-color: #0087ff\">Dense</span>)                 │ (<span style=\"color: #00d7ff; text-decoration-color: #00d7ff\">None</span>, <span style=\"color: #00af00; text-decoration-color: #00af00\">29</span>)             │        <span style=\"color: #00af00; text-decoration-color: #00af00\">14,877</span> │\n",
       "└─────────────────────────────────┴────────────────────────┴───────────────┘\n",
       "</pre>\n"
      ],
      "text/plain": [
       "┏━━━━━━━━━━━━━━━━━━━━━━━━━━━━━━━━━┳━━━━━━━━━━━━━━━━━━━━━━━━┳━━━━━━━━━━━━━━━┓\n",
       "┃\u001b[1m \u001b[0m\u001b[1mLayer (type)                   \u001b[0m\u001b[1m \u001b[0m┃\u001b[1m \u001b[0m\u001b[1mOutput Shape          \u001b[0m\u001b[1m \u001b[0m┃\u001b[1m \u001b[0m\u001b[1m      Param #\u001b[0m\u001b[1m \u001b[0m┃\n",
       "┡━━━━━━━━━━━━━━━━━━━━━━━━━━━━━━━━━╇━━━━━━━━━━━━━━━━━━━━━━━━╇━━━━━━━━━━━━━━━┩\n",
       "│ resnet50v2 (\u001b[38;5;33mFunctional\u001b[0m)         │ (\u001b[38;5;45mNone\u001b[0m, \u001b[38;5;34m2\u001b[0m, \u001b[38;5;34m2\u001b[0m, \u001b[38;5;34m2048\u001b[0m)     │    \u001b[38;5;34m23,564,800\u001b[0m │\n",
       "├─────────────────────────────────┼────────────────────────┼───────────────┤\n",
       "│ global_average_pooling2d_1      │ (\u001b[38;5;45mNone\u001b[0m, \u001b[38;5;34m2048\u001b[0m)           │             \u001b[38;5;34m0\u001b[0m │\n",
       "│ (\u001b[38;5;33mGlobalAveragePooling2D\u001b[0m)        │                        │               │\n",
       "├─────────────────────────────────┼────────────────────────┼───────────────┤\n",
       "│ dense_2 (\u001b[38;5;33mDense\u001b[0m)                 │ (\u001b[38;5;45mNone\u001b[0m, \u001b[38;5;34m512\u001b[0m)            │     \u001b[38;5;34m1,049,088\u001b[0m │\n",
       "├─────────────────────────────────┼────────────────────────┼───────────────┤\n",
       "│ dropout_1 (\u001b[38;5;33mDropout\u001b[0m)             │ (\u001b[38;5;45mNone\u001b[0m, \u001b[38;5;34m512\u001b[0m)            │             \u001b[38;5;34m0\u001b[0m │\n",
       "├─────────────────────────────────┼────────────────────────┼───────────────┤\n",
       "│ dense_3 (\u001b[38;5;33mDense\u001b[0m)                 │ (\u001b[38;5;45mNone\u001b[0m, \u001b[38;5;34m29\u001b[0m)             │        \u001b[38;5;34m14,877\u001b[0m │\n",
       "└─────────────────────────────────┴────────────────────────┴───────────────┘\n"
      ]
     },
     "metadata": {},
     "output_type": "display_data"
    },
    {
     "data": {
      "text/html": [
       "<pre style=\"white-space:pre;overflow-x:auto;line-height:normal;font-family:Menlo,'DejaVu Sans Mono',consolas,'Courier New',monospace\"><span style=\"font-weight: bold\"> Total params: </span><span style=\"color: #00af00; text-decoration-color: #00af00\">24,628,765</span> (93.95 MB)\n",
       "</pre>\n"
      ],
      "text/plain": [
       "\u001b[1m Total params: \u001b[0m\u001b[38;5;34m24,628,765\u001b[0m (93.95 MB)\n"
      ]
     },
     "metadata": {},
     "output_type": "display_data"
    },
    {
     "data": {
      "text/html": [
       "<pre style=\"white-space:pre;overflow-x:auto;line-height:normal;font-family:Menlo,'DejaVu Sans Mono',consolas,'Courier New',monospace\"><span style=\"font-weight: bold\"> Trainable params: </span><span style=\"color: #00af00; text-decoration-color: #00af00\">1,063,965</span> (4.06 MB)\n",
       "</pre>\n"
      ],
      "text/plain": [
       "\u001b[1m Trainable params: \u001b[0m\u001b[38;5;34m1,063,965\u001b[0m (4.06 MB)\n"
      ]
     },
     "metadata": {},
     "output_type": "display_data"
    },
    {
     "data": {
      "text/html": [
       "<pre style=\"white-space:pre;overflow-x:auto;line-height:normal;font-family:Menlo,'DejaVu Sans Mono',consolas,'Courier New',monospace\"><span style=\"font-weight: bold\"> Non-trainable params: </span><span style=\"color: #00af00; text-decoration-color: #00af00\">23,564,800</span> (89.89 MB)\n",
       "</pre>\n"
      ],
      "text/plain": [
       "\u001b[1m Non-trainable params: \u001b[0m\u001b[38;5;34m23,564,800\u001b[0m (89.89 MB)\n"
      ]
     },
     "metadata": {},
     "output_type": "display_data"
    },
    {
     "name": "stdout",
     "output_type": "stream",
     "text": [
      "Epoch 1/10\n"
     ]
    },
    {
     "name": "stderr",
     "output_type": "stream",
     "text": [
      "2025-10-24 15:02:12.509525: I tensorflow/core/kernels/data/shuffle_dataset_op.cc:452] ShuffleDatasetV3:90: Filling up shuffle buffer (this may take a while): 350 of 1000\n",
      "2025-10-24 15:01:54.723160: I tensorflow/core/kernels/data/shuffle_dataset_op.cc:482] Shuffle buffer filled.\n"
     ]
    },
    {
     "name": "stdout",
     "output_type": "stream",
     "text": [
      "\u001b[1m4350/4350\u001b[0m \u001b[32m━━━━━━━━━━━━━━━━━━━━\u001b[0m\u001b[37m\u001b[0m \u001b[1m117s\u001b[0m 18ms/step - accuracy: 0.8289 - loss: 0.5732 - val_accuracy: 0.9400 - val_loss: 0.1917\n",
      "Epoch 2/10\n",
      "\u001b[1m4350/4350\u001b[0m \u001b[32m━━━━━━━━━━━━━━━━━━━━\u001b[0m\u001b[37m\u001b[0m \u001b[1m58s\u001b[0m 16ms/step - accuracy: 0.9240 - loss: 0.2505 - val_accuracy: 0.9583 - val_loss: 0.1303\n",
      "Epoch 3/10\n",
      "\u001b[1m4350/4350\u001b[0m \u001b[32m━━━━━━━━━━━━━━━━━━━━\u001b[0m\u001b[37m\u001b[0m \u001b[1m51s\u001b[0m 11ms/step - accuracy: 0.9460 - loss: 0.1914 - val_accuracy: 0.9743 - val_loss: 0.0866\n",
      "Epoch 4/10\n",
      "\u001b[1m4350/4350\u001b[0m \u001b[32m━━━━━━━━━━━━━━━━━━━━\u001b[0m\u001b[37m\u001b[0m \u001b[1m58s\u001b[0m 13ms/step - accuracy: 0.9558 - loss: 0.1634 - val_accuracy: 0.9719 - val_loss: 0.0948\n",
      "Epoch 5/10\n",
      "\u001b[1m4350/4350\u001b[0m \u001b[32m━━━━━━━━━━━━━━━━━━━━\u001b[0m\u001b[37m\u001b[0m \u001b[1m53s\u001b[0m 12ms/step - accuracy: 0.9608 - loss: 0.1551 - val_accuracy: 0.9790 - val_loss: 0.0759\n",
      "Epoch 6/10\n"
     ]
    },
    {
     "name": "stderr",
     "output_type": "stream",
     "text": [
      "2025-10-24 15:07:28.124032: I tensorflow/core/kernels/data/shuffle_dataset_op.cc:452] ShuffleDatasetV3:90: Filling up shuffle buffer (this may take a while): 860 of 1000\n"
     ]
    },
    {
     "name": "stdout",
     "output_type": "stream",
     "text": [
      "\u001b[1m   7/4350\u001b[0m \u001b[37m━━━━━━━━━━━━━━━━━━━━\u001b[0m \u001b[1m1:51\u001b[0m 26ms/step - accuracy: 0.9695 - loss: 0.0732"
     ]
    },
    {
     "name": "stderr",
     "output_type": "stream",
     "text": [
      "2025-10-24 15:07:06.806772: I tensorflow/core/kernels/data/shuffle_dataset_op.cc:482] Shuffle buffer filled.\n"
     ]
    },
    {
     "name": "stdout",
     "output_type": "stream",
     "text": [
      "\u001b[1m4350/4350\u001b[0m \u001b[32m━━━━━━━━━━━━━━━━━━━━\u001b[0m\u001b[37m\u001b[0m \u001b[1m53s\u001b[0m 12ms/step - accuracy: 0.9660 - loss: 0.1426 - val_accuracy: 0.9785 - val_loss: 0.0983\n",
      "Epoch 7/10\n",
      "\u001b[1m4350/4350\u001b[0m \u001b[32m━━━━━━━━━━━━━━━━━━━━\u001b[0m\u001b[37m\u001b[0m \u001b[1m50s\u001b[0m 11ms/step - accuracy: 0.9696 - loss: 0.1342 - val_accuracy: 0.9798 - val_loss: 0.0748\n",
      "Epoch 8/10\n",
      "\u001b[1m4350/4350\u001b[0m \u001b[32m━━━━━━━━━━━━━━━━━━━━\u001b[0m\u001b[37m\u001b[0m \u001b[1m52s\u001b[0m 12ms/step - accuracy: 0.9726 - loss: 0.1258 - val_accuracy: 0.9775 - val_loss: 0.1130\n",
      "Epoch 9/10\n",
      "\u001b[1m4350/4350\u001b[0m \u001b[32m━━━━━━━━━━━━━━━━━━━━\u001b[0m\u001b[37m\u001b[0m \u001b[1m51s\u001b[0m 11ms/step - accuracy: 0.9744 - loss: 0.1236 - val_accuracy: 0.9785 - val_loss: 0.1180\n",
      "Epoch 10/10\n",
      "\u001b[1m  10/4350\u001b[0m \u001b[37m━━━━━━━━━━━━━━━━━━━━\u001b[0m \u001b[1m51s\u001b[0m 12ms/step - accuracy: 0.9966 - loss: 0.0229"
     ]
    },
    {
     "name": "stderr",
     "output_type": "stream",
     "text": [
      "2025-10-24 15:10:53.323934: I tensorflow/core/kernels/data/shuffle_dataset_op.cc:452] ShuffleDatasetV3:90: Filling up shuffle buffer (this may take a while): 973 of 1000\n",
      "2025-10-24 15:10:53.355399: I tensorflow/core/kernels/data/shuffle_dataset_op.cc:482] Shuffle buffer filled.\n"
     ]
    },
    {
     "name": "stdout",
     "output_type": "stream",
     "text": [
      "\u001b[1m4350/4350\u001b[0m \u001b[32m━━━━━━━━━━━━━━━━━━━━\u001b[0m\u001b[37m\u001b[0m \u001b[1m52s\u001b[0m 7ms/step - accuracy: 0.9757 - loss: 0.1151 - val_accuracy: 0.9827 - val_loss: 0.0698\n",
      "Epoch 11/15\n"
     ]
    },
    {
     "name": "stderr",
     "output_type": "stream",
     "text": [
      "2025-10-24 15:11:58.441194: I tensorflow/core/kernels/data/shuffle_dataset_op.cc:452] ShuffleDatasetV3:90: Filling up shuffle buffer (this may take a while): 844 of 1000\n",
      "2025-10-24 15:11:58.655315: I tensorflow/core/kernels/data/shuffle_dataset_op.cc:482] Shuffle buffer filled.\n"
     ]
    },
    {
     "name": "stdout",
     "output_type": "stream",
     "text": [
      "\u001b[1m4350/4350\u001b[0m \u001b[32m━━━━━━━━━━━━━━━━━━━━\u001b[0m\u001b[37m\u001b[0m \u001b[1m167s\u001b[0m 33ms/step - accuracy: 0.6268 - loss: 2.8397 - val_accuracy: 0.8960 - val_loss: 0.3744\n",
      "Epoch 12/15\n"
     ]
    },
    {
     "name": "stderr",
     "output_type": "stream",
     "text": [
      "2025-10-24 15:14:33.915363: I tensorflow/core/kernels/data/shuffle_dataset_op.cc:452] ShuffleDatasetV3:90: Filling up shuffle buffer (this may take a while): 463 of 1000\n"
     ]
    },
    {
     "name": "stdout",
     "output_type": "stream",
     "text": [
      "\u001b[1m   1/4350\u001b[0m \u001b[37m━━━━━━━━━━━━━━━━━━━━\u001b[0m \u001b[1m5:59:31\u001b[0m 5s/step - accuracy: 0.8750 - loss: 0.5239"
     ]
    },
    {
     "name": "stderr",
     "output_type": "stream",
     "text": [
      "2025-10-24 15:14:14.949248: I tensorflow/core/kernels/data/shuffle_dataset_op.cc:482] Shuffle buffer filled.\n"
     ]
    },
    {
     "name": "stdout",
     "output_type": "stream",
     "text": [
      "\u001b[1m4350/4350\u001b[0m \u001b[32m━━━━━━━━━━━━━━━━━━━━\u001b[0m\u001b[37m\u001b[0m \u001b[1m119s\u001b[0m 26ms/step - accuracy: 0.8860 - loss: 0.3554 - val_accuracy: 0.9775 - val_loss: 0.0730\n",
      "Epoch 13/15\n",
      "\u001b[1m   1/4350\u001b[0m \u001b[37m━━━━━━━━━━━━━━━━━━━━\u001b[0m \u001b[1m3:50:24\u001b[0m 3s/step - accuracy: 1.0000 - loss: 0.1055"
     ]
    },
    {
     "name": "stderr",
     "output_type": "stream",
     "text": [
      "2025-10-24 15:16:34.160916: I tensorflow/core/kernels/data/shuffle_dataset_op.cc:452] ShuffleDatasetV3:90: Filling up shuffle buffer (this may take a while): 958 of 1000\n",
      "2025-10-24 15:16:34.261321: I tensorflow/core/kernels/data/shuffle_dataset_op.cc:482] Shuffle buffer filled.\n"
     ]
    },
    {
     "name": "stdout",
     "output_type": "stream",
     "text": [
      "\u001b[1m4350/4350\u001b[0m \u001b[32m━━━━━━━━━━━━━━━━━━━━\u001b[0m\u001b[37m\u001b[0m \u001b[1m126s\u001b[0m 28ms/step - accuracy: 0.9531 - loss: 0.1404 - val_accuracy: 0.9924 - val_loss: 0.0249\n",
      "Epoch 14/15\n"
     ]
    },
    {
     "name": "stderr",
     "output_type": "stream",
     "text": [
      "2025-10-24 15:18:39.341734: I tensorflow/core/kernels/data/shuffle_dataset_op.cc:452] ShuffleDatasetV3:90: Filling up shuffle buffer (this may take a while): 561 of 1000\n",
      "2025-10-24 15:18:21.754100: I tensorflow/core/kernels/data/shuffle_dataset_op.cc:482] Shuffle buffer filled.\n"
     ]
    },
    {
     "name": "stdout",
     "output_type": "stream",
     "text": [
      "\u001b[1m4350/4350\u001b[0m \u001b[32m━━━━━━━━━━━━━━━━━━━━\u001b[0m\u001b[37m\u001b[0m \u001b[1m116s\u001b[0m 25ms/step - accuracy: 0.9743 - loss: 0.0759 - val_accuracy: 0.9960 - val_loss: 0.0121\n",
      "Epoch 15/15\n"
     ]
    },
    {
     "name": "stderr",
     "output_type": "stream",
     "text": [
      "2025-10-24 15:20:34.473631: I tensorflow/core/kernels/data/shuffle_dataset_op.cc:452] ShuffleDatasetV3:90: Filling up shuffle buffer (this may take a while): 529 of 1000\n"
     ]
    },
    {
     "name": "stdout",
     "output_type": "stream",
     "text": [
      "\u001b[1m   3/4350\u001b[0m \u001b[37m━━━━━━━━━━━━━━━━━━━━\u001b[0m \u001b[1m3:40\u001b[0m 51ms/step - accuracy: 0.9618 - loss: 0.1301"
     ]
    },
    {
     "name": "stderr",
     "output_type": "stream",
     "text": [
      "2025-10-24 15:20:13.621713: I tensorflow/core/kernels/data/shuffle_dataset_op.cc:482] Shuffle buffer filled.\n"
     ]
    },
    {
     "name": "stdout",
     "output_type": "stream",
     "text": [
      "\u001b[1m4350/4350\u001b[0m \u001b[32m━━━━━━━━━━━━━━━━━━━━\u001b[0m\u001b[37m\u001b[0m \u001b[1m107s\u001b[0m 24ms/step - accuracy: 0.9836 - loss: 0.0488 - val_accuracy: 0.9972 - val_loss: 0.0099\n"
     ]
    },
    {
     "data": {
      "image/png": "[encoded data removed]",
      "text/plain": [
       "<Figure size 800x400 with 1 Axes>"
      ]
     },
     "metadata": {},
     "output_type": "display_data"
    },
    {
     "name": "stdout",
     "output_type": "stream",
     "text": [
      "=============================================\n",
      "Evaluating model on the Test dataset...\n",
      "\u001b[1m216/544\u001b[0m \u001b[32m━━━━━━━\u001b[0m\u001b[37m━━━━━━━━━━━━━\u001b[0m \u001b[1m37s\u001b[0m 114ms/step - accuracy: 0.9973 - loss: 0.0065"
     ]
    },
    {
     "name": "stderr",
     "output_type": "stream",
     "text": [
      "2025-10-24 15:22:13.380840: I external/local_xla/xla/stream_executor/cuda/subprocess_compilation.cc:346] ptxas warning : Registers are spilled to local memory in function 'gemm_fusion_dot_1504', 112 bytes spill stores, 112 bytes spill loads\n",
      "\n",
      "2025-10-24 15:22:13.498006: I external/local_xla/xla/stream_executor/cuda/subprocess_compilation.cc:346] ptxas warning : Registers are spilled to local memory in function 'gemm_fusion_dot_1504', 1056 bytes spill stores, 1056 bytes spill loads\n",
      "\n",
      "2025-10-24 15:22:14.496141: I external/local_xla/xla/stream_executor/cuda/subprocess_compilation.cc:346] ptxas warning : Registers are spilled to local memory in function 'gemm_fusion_dot_1504', 8 bytes spill stores, 8 bytes spill loads\n",
      "\n",
      "2025-10-24 15:22:14.499072: I external/local_xla/xla/stream_executor/cuda/subprocess_compilation.cc:346] ptxas warning : Registers are spilled to local memory in function 'gemm_fusion_dot_1511', 124 bytes spill stores, 124 bytes spill loads\n",
      "\n",
      "2025-10-24 15:22:14.635210: I external/local_xla/xla/stream_executor/cuda/subprocess_compilation.cc:346] ptxas warning : Registers are spilled to local memory in function 'gemm_fusion_dot_1504', 4012 bytes spill stores, 3992 bytes spill loads\n",
      "\n",
      "2025-10-24 15:22:14.777012: I external/local_xla/xla/stream_executor/cuda/subprocess_compilation.cc:346] ptxas warning : Registers are spilled to local memory in function 'gemm_fusion_dot_1504', 12 bytes spill stores, 12 bytes spill loads\n",
      "\n",
      "2025-10-24 15:22:14.954323: I external/local_xla/xla/stream_executor/cuda/subprocess_compilation.cc:346] ptxas warning : Registers are spilled to local memory in function 'gemm_fusion_dot_1511', 256 bytes spill stores, 256 bytes spill loads\n",
      "\n",
      "2025-10-24 15:22:15.525983: I external/local_xla/xla/stream_executor/cuda/subprocess_compilation.cc:346] ptxas warning : Registers are spilled to local memory in function 'gemm_fusion_dot_1504', 8 bytes spill stores, 8 bytes spill loads\n",
      "\n",
      "2025-10-24 15:22:15.851340: I external/local_xla/xla/stream_executor/cuda/subprocess_compilation.cc:346] ptxas warning : Registers are spilled to local memory in function 'gemm_fusion_dot_1511', 564 bytes spill stores, 564 bytes spill loads\n",
      "\n",
      "2025-10-24 15:22:39.652585: E external/local_xla/xla/service/slow_operation_alarm.cc:73] Trying algorithm eng48{k2=15,k6=2,k13=1,k14=0,k22=0} for conv %cudnn-conv.79 = (f32[8,64,8,8]{3,2,1,0}, u8[0]{0}) custom-call(f32[8,64,16,16]{3,2,1,0} %bitcast.4703, f32[64,64,3,3]{3,2,1,0} %bitcast.4710), window={size=3x3 stride=2x2 pad=1_1x1_1}, dim_labels=bf01_oi01->bf01, custom_call_target=\"__cudnn$convForward\", metadata={op_type=\"Conv2D\" op_name=\"sequential_1_1/resnet50v2_1/conv2_block3_2_conv_1/convolution\" source_file=\"/home/nuttacha/myenv/lib/python3.12/site-packages/tensorflow/python/framework/ops.py\" source_line=1200}, backend_config={\"operation_queue_id\":\"0\",\"wait_on_operation_queues\":[],\"cudnn_conv_backend_config\":{\"conv_result_scale\":1,\"activation_mode\":\"kNone\",\"side_input_scale\":0,\"leakyrelu_alpha\":0},\"force_earliest_schedule\":false} is taking a while...\n",
      "2025-10-24 15:22:39.656402: E external/local_xla/xla/service/slow_operation_alarm.cc:140] The operation took 21.579621073s\n",
      "Trying algorithm eng48{k2=15,k6=2,k13=1,k14=0,k22=0} for conv %cudnn-conv.79 = (f32[8,64,8,8]{3,2,1,0}, u8[0]{0}) custom-call(f32[8,64,16,16]{3,2,1,0} %bitcast.4703, f32[64,64,3,3]{3,2,1,0} %bitcast.4710), window={size=3x3 stride=2x2 pad=1_1x1_1}, dim_labels=bf01_oi01->bf01, custom_call_target=\"__cudnn$convForward\", metadata={op_type=\"Conv2D\" op_name=\"sequential_1_1/resnet50v2_1/conv2_block3_2_conv_1/convolution\" source_file=\"/home/nuttacha/myenv/lib/python3.12/site-packages/tensorflow/python/framework/ops.py\" source_line=1200}, backend_config={\"operation_queue_id\":\"0\",\"wait_on_operation_queues\":[],\"cudnn_conv_backend_config\":{\"conv_result_scale\":1,\"activation_mode\":\"kNone\",\"side_input_scale\":0,\"leakyrelu_alpha\":0},\"force_earliest_schedule\":false} is taking a while...\n",
      "2025-10-24 15:22:20.003206: W external/local_xla/xla/tsl/framework/bfc_allocator.cc:310] Allocator (GPU_0_bfc) ran out of memory trying to allocate 1.11GiB with freed_by_count=0. The caller indicates that this is not a failure, but this may mean that there could be performance gains if more memory were available.\n"
     ]
    },
    {
     "name": "stdout",
     "output_type": "stream",
     "text": [
      "\u001b[1m544/544\u001b[0m \u001b[32m━━━━━━━━━━━━━━━━━━━━\u001b[0m\u001b[37m\u001b[0m \u001b[1m22s\u001b[0m 38ms/step - accuracy: 0.9974 - loss: 0.0072 \n"
     ]
    },
    {
     "name": "stderr",
     "output_type": "stream",
     "text": [
      "WARNING:absl:You are saving your model as an HDF5 file via `model.save()` or `keras.saving.save_model(model)`. This file format is considered legacy. We recommend using instead the native Keras format, e.g. `model.save('my_model.keras')` or `keras.saving.save_model(model, 'my_model.keras')`. \n"
     ]
    },
    {
     "name": "stdout",
     "output_type": "stream",
     "text": [
      "Final Test Loss: 0.007241670973598957\n",
      "Final Test Accuracy: 0.9973551034927368\n",
      "=============================================\n",
      "Model saved as resnet50v2_asl_model.h5\n"
     ]
    }
   ],
   "source": [
    "from tensorflow.keras.applications import ResNet50V2\n",
    "from tensorflow.keras import layers, models, optimizers\n",
    "import matplotlib.pyplot as plt\n",
    "\n",
    "\n",
    "base_model = ResNet50V2(\n",
    "    include_top=False,        \n",
    "    weights='imagenet',        \n",
    "    input_shape=(64, 64, 3)\n",
    ")\n",
    "\n",
    "\n",
    "base_model.trainable = False\n",
    "\n",
    "\n",
    "model = models.Sequential([\n",
    "    base_model,\n",
    "    layers.GlobalAveragePooling2D(),\n",
    "    layers.Dense(512, activation='relu'),\n",
    "    layers.Dropout(0.3),\n",
    "    layers.Dense(len(class_names), activation='softmax')  \n",
    "])\n",
    "\n",
    "\n",
    "model.compile(\n",
    "    optimizer=optimizers.Adam(learning_rate=0.001),\n",
    "    loss='sparse_categorical_crossentropy',\n",
    "    metrics=['accuracy']\n",
    ")\n",
    "\n",
    "\n",
    "model.summary()\n",
    "\n",
    "\n",
    "history = model.fit(\n",
    "    train_ds,\n",
    "    validation_data=val_ds,\n",
    "    epochs=10\n",
    ")\n",
    "\n",
    "\n",
    "base_model.trainable = True\n",
    "fine_tune_at = 140  \n",
    "\n",
    "for layer in base_model.layers[:fine_tune_at]:\n",
    "    layer.trainable = False\n",
    "\n",
    "\n",
    "model.compile(\n",
    "    optimizer=optimizers.Adam(learning_rate=1e-5),\n",
    "    loss='sparse_categorical_crossentropy',\n",
    "    metrics=['accuracy']\n",
    ")\n",
    "\n",
    "\n",
    "fine_tune_epochs = 5\n",
    "total_epochs = 10 + fine_tune_epochs\n",
    "\n",
    "history_fine = model.fit(\n",
    "    train_ds,\n",
    "    validation_data=val_ds,\n",
    "    epochs=total_epochs,\n",
    "    initial_epoch=10\n",
    ")\n",
    "\n",
    "\n",
    "acc = history.history['accuracy'] + history_fine.history['accuracy']\n",
    "val_acc = history.history['val_accuracy'] + history_fine.history['val_accuracy']\n",
    "\n",
    "\n",
    "plt.figure(figsize=(8, 4))\n",
    "plt.plot(acc, label='Train Accuracy')\n",
    "plt.plot(val_acc, label='Validation Accuracy')\n",
    "plt.title(\"ResNet50V2 Accuracy\")\n",
    "plt.xlabel(\"Epochs\")\n",
    "plt.ylabel(\"Accuracy\")\n",
    "plt.legend()\n",
    "plt.show()\n",
    "\n",
    "# 3. (เพิ่มเข้ามา) ประเมินผลโมเดลด้วย Test Set (10%) ที่ไม่เคยเห็นมาก่อน\n",
    "print(\"=============================================\")\n",
    "print(\"Evaluating model on the Test dataset...\")\n",
    "test_loss, test_accuracy = model.evaluate(test_ds) # <--- ใช้ test_ds ที่นี่\n",
    "\n",
    "print(f\"Final Test Loss: {test_loss}\")\n",
    "print(f\"Final Test Accuracy: {test_accuracy}\")\n",
    "print(\"=============================================\")\n",
    "\n",
    "\n",
    "model.save(\"resnet50v2_asl_model.h5\")\n",
    "print(\"Model saved as resnet50v2_asl_model.h5\")"
   ]
  },
  {
   "cell_type": "code",
   "execution_count": 1,
   "id": "e8ca3f6c-9226-45d4-892e-cf465161bfbb",
   "metadata": {},
   "outputs": [
    {
     "name": "stderr",
     "output_type": "stream",
     "text": [
      "2025-10-24 16:08:22.886349: I tensorflow/core/util/port.cc:153] oneDNN custom operations are on. You may see slightly different numerical results due to floating-point round-off errors from different computation orders. To turn them off, set the environment variable `TF_ENABLE_ONEDNN_OPTS=0`.\n",
      "2025-10-24 16:08:23.172377: E external/local_xla/xla/stream_executor/cuda/cuda_fft.cc:467] Unable to register cuFFT factory: Attempting to register factory for plugin cuFFT when one has already been registered\n",
      "WARNING: All log messages before absl::InitializeLog() is called are written to STDERR\n",
      "E0000 00:00:1761296903.287656   10620 cuda_dnn.cc:8579] Unable to register cuDNN factory: Attempting to register factory for plugin cuDNN when one has already been registered\n",
      "E0000 00:00:1761296903.317478   10620 cuda_blas.cc:1407] Unable to register cuBLAS factory: Attempting to register factory for plugin cuBLAS when one has already been registered\n",
      "W0000 00:00:1761296903.555244   10620 computation_placer.cc:177] computation placer already registered. Please check linkage and avoid linking the same target more than once.\n",
      "W0000 00:00:1761296903.555301   10620 computation_placer.cc:177] computation placer already registered. Please check linkage and avoid linking the same target more than once.\n",
      "W0000 00:00:1761296903.555303   10620 computation_placer.cc:177] computation placer already registered. Please check linkage and avoid linking the same target more than once.\n",
      "W0000 00:00:1761296903.555304   10620 computation_placer.cc:177] computation placer already registered. Please check linkage and avoid linking the same target more than once.\n",
      "2025-10-24 16:08:23.606392: I tensorflow/core/platform/cpu_feature_guard.cc:210] This TensorFlow binary is optimized to use available CPU instructions in performance-critical operations.\n",
      "To enable the following instructions: AVX2 AVX_VNNI FMA, in other operations, rebuild TensorFlow with the appropriate compiler flags.\n"
     ]
    },
    {
     "name": "stdout",
     "output_type": "stream",
     "text": [
      "Loading model from resnet50v2_asl_model.h5...\n"
     ]
    },
    {
     "name": "stderr",
     "output_type": "stream",
     "text": [
      "I0000 00:00:1761296936.041168   10620 gpu_device.cc:2019] Created device /job:localhost/replica:0/task:0/device:GPU:0 with 1767 MB memory:  -> device: 0, name: NVIDIA GeForce RTX 3050 Laptop GPU, pci bus id: 0000:01:00.0, compute capability: 8.6\n",
      "WARNING:absl:Compiled the loaded model, but the compiled metrics have yet to be built. `model.compile_metrics` will be empty until you train or evaluate the model.\n"
     ]
    },
    {
     "name": "stdout",
     "output_type": "stream",
     "text": [
      "Model loaded successfully.\n",
      "Image preprocessed successfully: /home/nuttacha/archivenew/asl_alphabet_test/asl_alphabet_test/A_test.jpg\n",
      "Predicting...\n"
     ]
    },
    {
     "name": "stderr",
     "output_type": "stream",
     "text": [
      "WARNING: All log messages before absl::InitializeLog() is called are written to STDERR\n",
      "I0000 00:00:1761296920.176720   10868 service.cc:152] XLA service 0x737244050280 initialized for platform CUDA (this does not guarantee that XLA will be used). Devices:\n",
      "I0000 00:00:1761296920.177156   10868 service.cc:160]   StreamExecutor device (0): NVIDIA GeForce RTX 3050 Laptop GPU, Compute Capability 8.6\n",
      "2025-10-24 16:08:40.390605: I tensorflow/compiler/mlir/tensorflow/utils/dump_mlir_util.cc:269] disabling MLIR crash reproducer, set env var `MLIR_CRASH_REPRODUCER_DIRECTORY` to enable.\n",
      "I0000 00:00:1761296921.107143   10868 cuda_dnn.cc:529] Loaded cuDNN version 91002\n",
      "2025-10-24 16:09:15.911075: E external/local_xla/xla/service/slow_operation_alarm.cc:73] Trying algorithm eng33{k2=15,k6=0,k13=1,k14=0,k22=0} for conv %cudnn-conv-bias-activation.111 = (f32[1,1024,2,2]{3,2,1,0}, u8[0]{0}) custom-call(f32[1,256,2,2]{3,2,1,0} %bitcast.5633, f32[1024,256,1,1]{3,2,1,0} %bitcast.5640, f32[1024]{0} %bitcast.5642, f32[1,1024,2,2]{3,2,1,0} %bitcast.5647), window={size=1x1}, dim_labels=bf01_oi01->bf01, custom_call_target=\"__cudnn$convBiasActivationForward\", metadata={op_type=\"Conv2D\" op_name=\"sequential_1_1/resnet50v2_1/conv4_block6_3_conv_1/convolution\" source_file=\"/home/nuttacha/myenv/lib/python3.12/site-packages/tensorflow/python/framework/ops.py\" source_line=1200}, backend_config={\"operation_queue_id\":\"0\",\"wait_on_operation_queues\":[],\"cudnn_conv_backend_config\":{\"conv_result_scale\":1,\"activation_mode\":\"kNone\",\"side_input_scale\":1,\"leakyrelu_alpha\":0},\"force_earliest_schedule\":false} is taking a while...\n",
      "2025-10-24 16:09:15.911832: E external/local_xla/xla/service/slow_operation_alarm.cc:140] The operation took 21.610917765s\n",
      "Trying algorithm eng33{k2=15,k6=0,k13=1,k14=0,k22=0} for conv %cudnn-conv-bias-activation.111 = (f32[1,1024,2,2]{3,2,1,0}, u8[0]{0}) custom-call(f32[1,256,2,2]{3,2,1,0} %bitcast.5633, f32[1024,256,1,1]{3,2,1,0} %bitcast.5640, f32[1024]{0} %bitcast.5642, f32[1,1024,2,2]{3,2,1,0} %bitcast.5647), window={size=1x1}, dim_labels=bf01_oi01->bf01, custom_call_target=\"__cudnn$convBiasActivationForward\", metadata={op_type=\"Conv2D\" op_name=\"sequential_1_1/resnet50v2_1/conv4_block6_3_conv_1/convolution\" source_file=\"/home/nuttacha/myenv/lib/python3.12/site-packages/tensorflow/python/framework/ops.py\" source_line=1200}, backend_config={\"operation_queue_id\":\"0\",\"wait_on_operation_queues\":[],\"cudnn_conv_backend_config\":{\"conv_result_scale\":1,\"activation_mode\":\"kNone\",\"side_input_scale\":1,\"leakyrelu_alpha\":0},\"force_earliest_schedule\":false} is taking a while...\n",
      "2025-10-24 16:08:55.633247: E external/local_xla/xla/service/slow_operation_alarm.cc:73] Trying algorithm eng56{k2=8,k12=1,k13=1,k14=3,k15=0,k17=256,k18=1,k22=0,k23=0} for conv %cudnn-conv.101 = (f32[512,1,2,2]{3,2,1,0}, u8[0]{0}) custom-call(f32[512,512,3,3]{3,2,1,0} %bitcast.5696, f32[1,512,2,2]{3,2,1,0} %bitcast.5735), window={size=2x2 rhs_reversal=1x1}, dim_labels=bf01_oi01->bf01, custom_call_target=\"__cudnn$convForward\", metadata={op_type=\"Conv2D\" op_name=\"sequential_1_1/resnet50v2_1/conv5_block1_2_conv_1/convolution\" source_file=\"/home/nuttacha/myenv/lib/python3.12/site-packages/tensorflow/python/framework/ops.py\" source_line=1200}, backend_config={\"operation_queue_id\":\"0\",\"wait_on_operation_queues\":[],\"cudnn_conv_backend_config\":{\"conv_result_scale\":1,\"activation_mode\":\"kNone\",\"side_input_scale\":0,\"leakyrelu_alpha\":0},\"force_earliest_schedule\":false} is taking a while...\n",
      "2025-10-24 16:08:56.239291: E external/local_xla/xla/service/slow_operation_alarm.cc:140] The operation took 1.606315589s\n",
      "Trying algorithm eng56{k2=8,k12=1,k13=1,k14=3,k15=0,k17=256,k18=1,k22=0,k23=0} for conv %cudnn-conv.101 = (f32[512,1,2,2]{3,2,1,0}, u8[0]{0}) custom-call(f32[512,512,3,3]{3,2,1,0} %bitcast.5696, f32[1,512,2,2]{3,2,1,0} %bitcast.5735), window={size=2x2 rhs_reversal=1x1}, dim_labels=bf01_oi01->bf01, custom_call_target=\"__cudnn$convForward\", metadata={op_type=\"Conv2D\" op_name=\"sequential_1_1/resnet50v2_1/conv5_block1_2_conv_1/convolution\" source_file=\"/home/nuttacha/myenv/lib/python3.12/site-packages/tensorflow/python/framework/ops.py\" source_line=1200}, backend_config={\"operation_queue_id\":\"0\",\"wait_on_operation_queues\":[],\"cudnn_conv_backend_config\":{\"conv_result_scale\":1,\"activation_mode\":\"kNone\",\"side_input_scale\":0,\"leakyrelu_alpha\":0},\"force_earliest_schedule\":false} is taking a while...\n"
     ]
    },
    {
     "name": "stdout",
     "output_type": "stream",
     "text": [
      "\u001b[1m1/1\u001b[0m \u001b[32m━━━━━━━━━━━━━━━━━━━━\u001b[0m\u001b[37m\u001b[0m \u001b[1m19s\u001b[0m 19s/step\n",
      "\n",
      "==============================\n",
      "ผลการทำนาย (Prediction)\n",
      "Class: A\n",
      "Confidence: 100.00%\n",
      "==============================\n"
     ]
    },
    {
     "name": "stderr",
     "output_type": "stream",
     "text": [
      "I0000 00:00:1761296937.568939   10868 device_compiler.h:188] Compiled cluster using XLA!  This line is logged at most once for the lifetime of the process.\n"
     ]
    },
    {
     "data": {
      "image/png": "[encoded data removed]",
      "text/plain": [
       "<Figure size 640x480 with 1 Axes>"
      ]
     },
     "metadata": {},
     "output_type": "display_data"
    }
   ],
   "source": [
    "import tensorflow as tf\n",
    "import numpy as np\n",
    "from tensorflow.keras.utils import load_img, img_to_array\n",
    "import matplotlib.pyplot as plt\n",
    "\n",
    "# ---------------------------------------------------------------------\n",
    "# 1. ตั้งค่า (ต้องตรงกับตอนเทรนโมเดล)\n",
    "# ---------------------------------------------------------------------\n",
    "\n",
    "MODEL_PATH = 'resnet50v2_asl_model.h5'\n",
    "IMG_SIZE = (64, 64) # ‼️ สำคัญมาก: ต้องเป็น (64, 64) ตามที่คุณใช้เทรน\n",
    "\n",
    "# ‼️ สำคัญ: คัดลอก Class names (29 classes) ที่ถูกต้องมาจาก Output ตอนเทรน\n",
    "# (ต้องเรียงลำดับให้ถูกต้องเหมือนเดิม)\n",
    "CLASS_NAMES = ['A', 'B', 'C', 'D', 'E', 'F', 'G', 'H', 'I', 'J', 'K', 'L', 'M', \n",
    "               'N', 'O', 'P', 'Q', 'R', 'S', 'T', 'U', 'V', 'W', 'X', 'Y', 'Z', \n",
    "               'del', 'nothing', 'space']\n",
    "\n",
    "# ---------------------------------------------------------------------\n",
    "# 2. โหลดโมเดลที่เทรนไว้\n",
    "# ---------------------------------------------------------------------\n",
    "print(f\"Loading model from {MODEL_PATH}...\")\n",
    "try:\n",
    "    model = tf.keras.models.load_model(MODEL_PATH)\n",
    "    print(\"Model loaded successfully.\")\n",
    "except Exception as e:\n",
    "    print(f\"Error loading model: {e}\")\n",
    "    exit() # ออกจากโปรแกรมถ้าโหลดโมเดลไม่ได้\n",
    "\n",
    "# ---------------------------------------------------------------------\n",
    "# 3. เตรียมภาพใหม่\n",
    "# ---------------------------------------------------------------------\n",
    "\n",
    "# ‼️‼️ แก้ไขตรงนี้ ‼️‼️\n",
    "# ใส่ Path ไปยังภาพที่คุณต้องการทดสอบ\n",
    "IMAGE_PATH = '/home/nuttacha/archivenew/asl_alphabet_test/asl_alphabet_test/A_test.jpg'\n",
    "\n",
    "try:\n",
    "    # 3.1 โหลดภาพจากไฟล์ และปรับขนาดให้เป็น (64, 64)\n",
    "    img = load_img(IMAGE_PATH, target_size=IMG_SIZE)\n",
    "\n",
    "    # 3.2 แปลงภาพเป็น NumPy array (ขนาด 64, 64, 3)\n",
    "    img_array = img_to_array(img)\n",
    "\n",
    "    # 3.3 Normalize ค่าสี (ให้เหมือนตอนเทรน)\n",
    "    # โมเดลเรียนรู้จากภาพที่ค่าสี 0-1 ไม่ใช่ 0-255\n",
    "    img_array_normalized = img_array / 255.0\n",
    "\n",
    "    # 3.4 เพิ่มมิติของ \"batch\"\n",
    "    # โมเดลคาดหวังข้อมูลเป็น \"กลุ่ม\" (Batch)\n",
    "    # เราจึงแปลง (64, 64, 3) -> (1, 64, 64, 3)\n",
    "    img_batch = np.expand_dims(img_array_normalized, axis=0) \n",
    "\n",
    "    print(f\"Image preprocessed successfully: {IMAGE_PATH}\")\n",
    "\n",
    "except FileNotFoundError:\n",
    "    print(f\"Error: Image file not found at {IMAGE_PATH}\")\n",
    "    print(\"Please update IMAGE_PATH to the correct path of your image.\")\n",
    "    exit()\n",
    "except Exception as e:\n",
    "    print(f\"Error processing image: {e}\")\n",
    "    exit()\n",
    "\n",
    "# ---------------------------------------------------------------------\n",
    "# 4. สั่งให้โมเดลทำนาย (Predict)\n",
    "# ---------------------------------------------------------------------\n",
    "print(\"Predicting...\")\n",
    "\n",
    "# .predict() จะคืนค่า probability (ความน่าจะเป็น) ของทุก Class\n",
    "predictions = model.predict(img_batch)\n",
    "\n",
    "# predictions จะมีหน้าตาประมาณนี้ [[0.01, 0.05, 0.92, ...]] (มี 29 ค่า)\n",
    "\n",
    "# ---------------------------------------------------------------------\n",
    "# 5. แปลผลลัพธ์\n",
    "# ---------------------------------------------------------------------\n",
    "\n",
    "# 1. ดึง array ของ prediction ออกมาจาก batch (เรามีแค่ภาพเดียว)\n",
    "score = predictions[0]\n",
    "\n",
    "# 2. หา \"ดัชนี\" (index) ของ Class ที่มีค่าน่าจะเป็นสูงสุด\n",
    "predicted_index = np.argmax(score)\n",
    "\n",
    "# 3. ใช้ดัชนีไปดึง \"ชื่อ Class\" จากลิสต์\n",
    "predicted_class = CLASS_NAMES[predicted_index]\n",
    "\n",
    "# 4. ดึง \"ค่าความมั่นใจ\" (ค่าน่าจะเป็น)\n",
    "confidence = 100 * np.max(score)\n",
    "\n",
    "# 5. แสดงผลลัพธ์\n",
    "print(\"\\n\" + \"=\"*30)\n",
    "print(\"ผลการทำนาย (Prediction)\")\n",
    "print(f\"Class: {predicted_class}\")\n",
    "print(f\"Confidence: {confidence:.2f}%\")\n",
    "print(\"=\"*30)\n",
    "\n",
    "# (แถม) แสดงภาพที่ใช้ทดสอบ\n",
    "plt.imshow(img)\n",
    "plt.title(f\"Prediction: {predicted_class} ({confidence:.2f}%)\")\n",
    "plt.axis('off')\n",
    "plt.show()"
   ]
  },
  {
   "cell_type": "code",
   "execution_count": null,
   "id": "5c834eca-095f-4cc5-be4b-543e6e4bbc25",
   "metadata": {},
   "outputs": [],
   "source": []
  }
 ],
 "metadata": {
  "kernelspec": {
   "display_name": "Python 3 (ipykernel)",
   "language": "python",
   "name": "python3"
  },
  "language_info": {
   "codemirror_mode": {
    "name": "ipython",
    "version": 3
   },
   "file_extension": ".py",
   "mimetype": "text/x-python",
   "name": "python",
   "nbconvert_exporter": "python",
   "pygments_lexer": "ipython3",
   "version": "3.12.3"
  }
 },
 "nbformat": 4,
 "nbformat_minor": 5
}
